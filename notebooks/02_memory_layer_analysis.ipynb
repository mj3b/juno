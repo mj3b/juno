{
 "cells": [
  {
   "cell_type": "markdown",
   "metadata": {},
   "source": [
    "# JUNO Memory Layer Analysis\n",
    "\n",
    "This notebook analyzes JUNO's memory layer performance and provides insights into memory utilization patterns."
   ]
  },
  {
   "cell_type": "code",
   "execution_count": null,
   "metadata": {},
   "outputs": [],
   "source": [
    "import sys\n",
    "import os\n",
    "sys.path.append(os.path.join('..', 'src'))\n",
    "\n",
    "from juno.core.memory.memory_layer import MemoryLayer\n",
    "import matplotlib.pyplot as plt\n",
    "import pandas as pd"
   ]
  },
  {
   "cell_type": "markdown",
   "metadata": {},
   "source": [
    "## Memory Layer Performance Analysis"
   ]
  },
  {
   "cell_type": "code",
   "execution_count": null,
   "metadata": {},
   "outputs": [],
   "source": [
    "# Initialize memory layer\n",
    "memory = MemoryLayer()\n",
    "\n",
    "# Analyze memory utilization\n",
    "memory_stats = memory.get_utilization_stats()\n",
    "print(\"Memory Utilization Statistics:\")\n",
    "for key, value in memory_stats.items():\n",
    "    print(f\"  {key}: {value}\")"
   ]
  },
  {
   "cell_type": "markdown",
   "metadata": {},
   "source": [
    "## Memory Performance Visualization"
   ]
  },
  {
   "cell_type": "code",
   "execution_count": null,
   "metadata": {},
   "outputs": [],
   "source": [
    "# Create memory performance visualization\n",
    "fig, axes = plt.subplots(2, 2, figsize=(12, 8))\n",
    "\n",
    "# Plot memory layer utilization\n",
    "memory_types = ['Episodic', 'Semantic', 'Procedural', 'Working']\n",
    "utilization = [78, 65, 82, 91]  # Example data\n",
    "\n",
    "axes[0, 0].bar(memory_types, utilization)\n",
    "axes[0, 0].set_title('Memory Layer Utilization (%)')\n",
    "axes[0, 0].set_ylabel('Utilization %')\n",
    "\n",
    "plt.tight_layout()\n",
    "plt.show()"
   ]
  }
 ],
 "metadata": {
  "kernelspec": {
   "display_name": "Python 3",
   "language": "python",
   "name": "python3"
  },
  "language_info": {
   "codemirror_mode": {
    "name": "ipython",
    "version": 3
   },
   "file_extension": ".py",
   "name": "python",
   "nbconvert_exporter": "python",
   "pygments_lexer": "ipython3",
   "version": "3.11.0"
  }
 },
 "nbformat": 4,
 "nbformat_minor": 4
}

