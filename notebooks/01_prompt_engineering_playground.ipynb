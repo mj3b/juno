{
 "cells": [
  {
   "cell_type": "markdown",
   "metadata": {},
   "source": [
    "# JUNO Prompt Engineering Playground\n",
    "\n",
    "This notebook provides an interactive environment for experimenting with JUNO's prompt engineering and testing different approaches to agent reasoning."
   ]
  },
  {
   "cell_type": "code",
   "execution_count": null,
   "metadata": {},
   "outputs": [],
   "source": [
    "import sys\n",
    "import os\n",
    "sys.path.append(os.path.join('..', 'src'))\n",
    "\n",
    "from juno.core.reasoning.nlp_processor import EnhancedNLPProcessor\n",
    "from juno.infrastructure.openai_integration.connector import EnterpriseGPTConnector"
   ]
  },
  {
   "cell_type": "markdown",
   "metadata": {},
   "source": [
    "## Initialize JUNO Components"
   ]
  },
  {
   "cell_type": "code",
   "execution_count": null,
   "metadata": {},
   "outputs": [],
   "source": [
    "# Initialize NLP processor and GPT connector\n",
    "nlp_processor = EnhancedNLPProcessor()\n",
    "gpt_connector = EnterpriseGPTConnector()\n",
    "\n",
    "print(\"✅ JUNO components initialized\")"
   ]
  },
  {
   "cell_type": "markdown",
   "metadata": {},
   "source": [
    "## Test Prompt Engineering"
   ]
  },
  {
   "cell_type": "code",
   "execution_count": null,
   "metadata": {},
   "outputs": [],
   "source": [
    "# Test different prompts for sprint risk analysis\n",
    "test_query = \"What are the risks for our current sprint?\"\n",
    "\n",
    "# Process with JUNO\n",
    "result = nlp_processor.process_query(test_query)\n",
    "print(f\"Query: {test_query}\")\n",
    "print(f\"Result: {result}\")"
   ]
  }
 ],
 "metadata": {
  "kernelspec": {
   "display_name": "Python 3",
   "language": "python",
   "name": "python3"
  },
  "language_info": {
   "codemirror_mode": {
    "name": "ipython",
    "version": 3
   },
   "file_extension": ".py",
   "name": "python",
   "nbconvert_exporter": "python",
   "pygments_lexer": "ipython3",
   "version": "3.11.0"
  }
 },
 "nbformat": 4,
 "nbformat_minor": 4
}

